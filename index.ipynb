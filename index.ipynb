{
 "cells": [
  {
   "cell_type": "markdown",
   "metadata": {},
   "source": [
    "# TITLE: Movie Recommendation system\n",
    "## Collaborators\n",
    "1. Ezra Kipchirchir\n",
    "2. Sharon Kaliku\n",
    "3. Mercy Tegekson\n",
    "4. Robinson Mumo\n",
    "5. Allen Maina\n",
    "6. Candy Gudda\n",
    "\n",
    "### Project Overview\n",
    "\n",
    "\n",
    "\n",
    "### Introduction\n",
    "\n",
    "\n",
    "\n",
    "### Challenges\n",
    "\n",
    "\n",
    "\n",
    "\n",
    "### Proposed solutions\n",
    "\n",
    "\n",
    "\n",
    "### Problem statement\n",
    "\n",
    "\n",
    "\n",
    "### Data understanding\n",
    "\n",
    "\n",
    "#### Importing the required libraries and modules for our project"
   ]
  },
  {
   "cell_type": "code",
   "execution_count": null,
   "metadata": {
    "vscode": {
     "languageId": "plaintext"
    }
   },
   "outputs": [],
   "source": []
  }
 ],
 "metadata": {
  "language_info": {
   "name": "python"
  }
 },
 "nbformat": 4,
 "nbformat_minor": 2
}
