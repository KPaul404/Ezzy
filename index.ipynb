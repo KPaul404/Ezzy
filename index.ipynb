{
 "cells": [
  {
   "cell_type": "markdown",
   "metadata": {},
   "source": [
    "# TITLE: Movie Recommendation system\n",
    "## Collaborators\n",
    "1. Ezra Kipchirchir\n",
    "2. Sharon Kaliku\n",
    "3. Mercy Tegekson\n",
    "4. Robinson Mumo\n",
    "5. Allen Maina\n",
    "6. Candy Gudda\n",
    "\n",
    "### Project Overview\n",
    "\n",
    "\n",
    "\n",
    "### Introduction\n",
    "\n",
    "\n",
    "\n",
    "### Challenges\n",
    "\n",
    "\n",
    "\n",
    "\n",
    "### Proposed solutions\n",
    "\n",
    "\n",
    "\n",
    "### Problem statement\n",
    "\n",
    "\n",
    "\n",
    "### Data understanding\n",
    "\n",
    "\n",
    "#### 1. Importing the required libraries and modules for our project"
   ]
  },
  {
   "cell_type": "code",
   "execution_count": 1,
   "metadata": {},
   "outputs": [],
   "source": [
    "# importing modules\n",
    "import pandas as pd \n",
    "import numpy as np \n",
    "import matplotlib.pyplot as plt \n",
    "import seaborn as sns\n"
   ]
  },
  {
   "cell_type": "markdown",
   "metadata": {},
   "source": [
    "#### 1.2 loading and doing the necessary inspection on our data"
   ]
  },
  {
   "cell_type": "code",
   "execution_count": null,
   "metadata": {},
   "outputs": [],
   "source": [
    "pd."
   ]
  }
 ],
 "metadata": {
  "kernelspec": {
   "display_name": "Python 3",
   "language": "python",
   "name": "python3"
  },
  "language_info": {
   "codemirror_mode": {
    "name": "ipython",
    "version": 3
   },
   "file_extension": ".py",
   "mimetype": "text/x-python",
   "name": "python",
   "nbconvert_exporter": "python",
   "pygments_lexer": "ipython3",
   "version": "3.10.12"
  }
 },
 "nbformat": 4,
 "nbformat_minor": 2
}
